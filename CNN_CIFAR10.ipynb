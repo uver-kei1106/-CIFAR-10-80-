{
  "nbformat": 4,
  "nbformat_minor": 0,
  "metadata": {
    "colab": {
      "name": "CNNによるCIFAR10の分類(データ拡張).ipynb",
      "provenance": []
    },
    "kernelspec": {
      "name": "python3",
      "display_name": "Python 3"
    },
    "accelerator": "GPU"
  },
  "cells": [
    {
      "cell_type": "code",
      "metadata": {
        "id": "-p6HnBgWcDOL"
      },
      "source": [
        "import torch\n",
        "import torchvision\n",
        "import torch.nn as nn\n",
        "import torch.optim as optim\n",
        "import numpy as np\n",
        "import matplotlib.pyplot as plt\n",
        "import seaborn as sns\n",
        "from torchvision import datasets,transforms\n",
        "from torch.utils.data import DataLoader\n",
        "from torch.utils.data import DataLoader"
      ],
      "execution_count": 39,
      "outputs": []
    },
    {
      "cell_type": "code",
      "metadata": {
        "id": "9ytNrrW8ckWA"
      },
      "source": [
        "device=\"cuda\" if torch.cuda.is_available() else \"CPU\""
      ],
      "execution_count": 40,
      "outputs": []
    },
    {
      "cell_type": "code",
      "metadata": {
        "id": "6Ov3KBP4cvcJ",
        "colab": {
          "base_uri": "https://localhost:8080/",
          "height": 35
        },
        "outputId": "8aac7686-60fa-4b95-c133-08d7d3fef89e"
      },
      "source": [
        "device"
      ],
      "execution_count": 41,
      "outputs": [
        {
          "output_type": "execute_result",
          "data": {
            "application/vnd.google.colaboratory.intrinsic+json": {
              "type": "string"
            },
            "text/plain": [
              "'cuda'"
            ]
          },
          "metadata": {
            "tags": []
          },
          "execution_count": 41
        }
      ]
    },
    {
      "cell_type": "code",
      "metadata": {
        "id": "RZol2RHqcxQI"
      },
      "source": [
        "val_transform=transforms.Compose([\n",
        "    transforms.ToTensor(),\n",
        "    transforms.Normalize((0.5,),(0.5,))\n",
        "])\n",
        "\n",
        "train_transform=transforms.Compose([\n",
        "    transforms.RandomHorizontalFlip(),\n",
        "    transforms.ColorJitter(),\n",
        "    transforms.RandomRotation(10),\n",
        "    transforms.ToTensor(),\n",
        "    transforms.Normalize((0.5,),(0.5,))\n",
        "])"
      ],
      "execution_count": 42,
      "outputs": []
    },
    {
      "cell_type": "code",
      "metadata": {
        "id": "0MbMAUgydfnv",
        "colab": {
          "base_uri": "https://localhost:8080/"
        },
        "outputId": "076c161e-9db3-466a-bdd6-2c12a5a92d25"
      },
      "source": [
        "train_dataset=datasets.CIFAR10(root=\"./data\",train=True,download=True,transform=train_transform)\n",
        "validation_dataset=datasets.CIFAR10(root=\"./data\",train=False,download=True,transform=val_transform)"
      ],
      "execution_count": 43,
      "outputs": [
        {
          "output_type": "stream",
          "text": [
            "Files already downloaded and verified\n",
            "Files already downloaded and verified\n"
          ],
          "name": "stdout"
        }
      ]
    },
    {
      "cell_type": "code",
      "metadata": {
        "id": "UYaZIObweBv3"
      },
      "source": [
        "names=(\"plane\",\"car\",\"bird\",\"cat\",\"deer\",\"dog\",\"frog\",\"horse\",\"ship\",\"truck\")"
      ],
      "execution_count": 44,
      "outputs": []
    },
    {
      "cell_type": "code",
      "metadata": {
        "id": "Qvm4MgZ5FS6I"
      },
      "source": [
        "train_daraloader=DataLoader(train_dataset,batch_size=32,shuffle=True)\n",
        "validation_dataloader=DataLoader(validation_dataset,batch_size=32,shuffle=False)"
      ],
      "execution_count": 45,
      "outputs": []
    },
    {
      "cell_type": "code",
      "metadata": {
        "id": "4B-h5n4lG0D4",
        "colab": {
          "base_uri": "https://localhost:8080/",
          "height": 283
        },
        "outputId": "57642c0a-75a2-428a-e675-2b119f315457"
      },
      "source": [
        "data_iter=iter(train_daraloader)\r\n",
        "imgs,labels=data_iter.next()\r\n",
        "img=imgs[0]\r\n",
        "img_prmute=img.permute(1,2,0)\r\n",
        "img_permute=0.5*img_prmute+0.5\r\n",
        "img_permute=np.clip(img_permute,0,1)\r\n",
        "plt.imshow(img_permute)"
      ],
      "execution_count": 46,
      "outputs": [
        {
          "output_type": "execute_result",
          "data": {
            "text/plain": [
              "<matplotlib.image.AxesImage at 0x7f14df3c57f0>"
            ]
          },
          "metadata": {
            "tags": []
          },
          "execution_count": 46
        },
        {
          "output_type": "display_data",
          "data": {
            "image/png": "[encoded data removed]",
            "text/plain": [
              "<Figure size 432x288 with 1 Axes>"
            ]
          },
          "metadata": {
            "tags": [],
            "needs_background": "light"
          }
        }
      ]
    },
    {
      "cell_type": "code",
      "metadata": {
        "id": "p9o-c9H4HuUS"
      },
      "source": [
        "class CNN(nn.Module):\n",
        "    def __init__(self,num_classes):\n",
        "        super().__init__()\n",
        "        self.features=nn.Sequential(\n",
        "            nn.Conv2d(in_channels=3,out_channels=64,kernel_size=5,padding=2),\n",
        "            nn.ReLU(inplace=True),\n",
        "            nn.MaxPool2d(kernel_size=2),\n",
        "            nn.Conv2d(in_channels=64,out_channels=128,kernel_size=3,padding=1),\n",
        "            nn.ReLU(inplace=True),\n",
        "            nn.MaxPool2d(kernel_size=2),\n",
        "            nn.Conv2d(in_channels=128,out_channels=256,kernel_size=3,padding=1),\n",
        "            nn.ReLU(inplace=True),\n",
        "            nn.MaxPool2d(kernel_size=2),\n",
        "            nn.Conv2d(in_channels=256,out_channels=128,kernel_size=3,padding=1),\n",
        "            nn.ReLU(inplace=True),\n",
        "        )\n",
        "        self.classifier=nn.Linear(in_features=4*4*128,out_features=num_classes)\n",
        "    def forward(self,x):\n",
        "        x=self.features(x)\n",
        "        x=x.view(x.size(0),-1)\n",
        "        x=self.classifier(x)\n",
        "        return x"
      ],
      "execution_count": 47,
      "outputs": []
    },
    {
      "cell_type": "code",
      "metadata": {
        "id": "7QhNhiCxxOrc"
      },
      "source": [
        "#!pip install efficientnet_pytorch"
      ],
      "execution_count": 48,
      "outputs": []
    },
    {
      "cell_type": "code",
      "metadata": {
        "colab": {
          "base_uri": "https://localhost:8080/",
          "height": 35
        },
        "id": "8RyrSC5kxTex",
        "outputId": "66029004-c702-4a2e-c9b6-64dcdb3a05b3"
      },
      "source": [
        "\"\"\"\r\n",
        "from efficientnet_pytorch import EfficientNet\r\n",
        "model = EfficientNet.from_pretrained('efficientnet-b0')\r\n",
        "\"\"\""
      ],
      "execution_count": 49,
      "outputs": [
        {
          "output_type": "execute_result",
          "data": {
            "application/vnd.google.colaboratory.intrinsic+json": {
              "type": "string"
            },
            "text/plain": [
              "\"\\nfrom efficientnet_pytorch import EfficientNet\\nmodel = EfficientNet.from_pretrained('efficientnet-b0')\\n\""
            ]
          },
          "metadata": {
            "tags": []
          },
          "execution_count": 49
        }
      ]
    },
    {
      "cell_type": "code",
      "metadata": {
        "colab": {
          "base_uri": "https://localhost:8080/",
          "height": 35
        },
        "id": "9LNZCOcZxU-R",
        "outputId": "16f3d829-508d-4ca2-9809-ea3a06cd27b8"
      },
      "source": [
        "\"\"\"\r\n",
        "for param in model.parameters():\r\n",
        "    param.requires_grad=True\r\n",
        "\"\"\""
      ],
      "execution_count": 50,
      "outputs": [
        {
          "output_type": "execute_result",
          "data": {
            "application/vnd.google.colaboratory.intrinsic+json": {
              "type": "string"
            },
            "text/plain": [
              "'\\nfor param in model.parameters():\\n    param.requires_grad=True\\n'"
            ]
          },
          "metadata": {
            "tags": []
          },
          "execution_count": 50
        }
      ]
    },
    {
      "cell_type": "code",
      "metadata": {
        "id": "gDD4Un5UxXLt"
      },
      "source": [
        "#model._fc=nn.Linear(1280,10)"
      ],
      "execution_count": 51,
      "outputs": []
    },
    {
      "cell_type": "code",
      "metadata": {
        "id": "6iX1XmvwSFOY",
        "colab": {
          "base_uri": "https://localhost:8080/"
        },
        "outputId": "db72daf7-4421-484c-ef48-5483466ed772"
      },
      "source": [
        "model=CNN(10)\n",
        "model.to(device)"
      ],
      "execution_count": 52,
      "outputs": [
        {
          "output_type": "execute_result",
          "data": {
            "text/plain": [
              "CNN(\n",
              "  (features): Sequential(\n",
              "    (0): Conv2d(3, 64, kernel_size=(5, 5), stride=(1, 1), padding=(2, 2))\n",
              "    (1): ReLU(inplace=True)\n",
              "    (2): MaxPool2d(kernel_size=2, stride=2, padding=0, dilation=1, ceil_mode=False)\n",
              "    (3): Conv2d(64, 128, kernel_size=(3, 3), stride=(1, 1), padding=(1, 1))\n",
              "    (4): ReLU(inplace=True)\n",
              "    (5): MaxPool2d(kernel_size=2, stride=2, padding=0, dilation=1, ceil_mode=False)\n",
              "    (6): Conv2d(128, 256, kernel_size=(3, 3), stride=(1, 1), padding=(1, 1))\n",
              "    (7): ReLU(inplace=True)\n",
              "    (8): MaxPool2d(kernel_size=2, stride=2, padding=0, dilation=1, ceil_mode=False)\n",
              "    (9): Conv2d(256, 128, kernel_size=(3, 3), stride=(1, 1), padding=(1, 1))\n",
              "    (10): ReLU(inplace=True)\n",
              "  )\n",
              "  (classifier): Linear(in_features=2048, out_features=10, bias=True)\n",
              ")"
            ]
          },
          "metadata": {
            "tags": []
          },
          "execution_count": 52
        }
      ]
    },
    {
      "cell_type": "code",
      "metadata": {
        "id": "aLSWP7fGSYfb"
      },
      "source": [
        "criterion=nn.CrossEntropyLoss()\n",
        "optimizer=optim.Adam(model.parameters(),lr=0.001,weight_decay=5e-4)"
      ],
      "execution_count": 53,
      "outputs": []
    },
    {
      "cell_type": "code",
      "metadata": {
        "id": "2Ej9fZRnS-DH",
        "colab": {
          "base_uri": "https://localhost:8080/"
        },
        "outputId": "8206db6e-46f5-4aba-d55a-ab913fc9aa26"
      },
      "source": [
        "num_epochs=15\n",
        "losses=[]\n",
        "accs=[]\n",
        "val_losses=[]\n",
        "val_accs=[]\n",
        "for epoch in range(num_epochs):\n",
        "    running_loss=0.0\n",
        "    running_acc=0.0\n",
        "    for imgs,labels in train_daraloader:\n",
        "        imgs=imgs.to(device)\n",
        "        labels=labels.to(device)\n",
        "        optimizer.zero_grad()\n",
        "        output=model(imgs)\n",
        "        loss=criterion(output,labels)\n",
        "        loss.backward()\n",
        "        running_loss+=loss.item()\n",
        "        pred=torch.argmax(output,dim=1)\n",
        "        running_acc+=torch.mean(pred.eq(labels).float())\n",
        "        optimizer.step()\n",
        "    running_loss /=len(train_daraloader)\n",
        "    running_acc /=len(train_daraloader)\n",
        "    losses.append(running_loss)\n",
        "    accs.append(running_acc)\n",
        "\n",
        "    val_running_loss=0.0\n",
        "    val_running_acc=0.0\n",
        "    for val_imgs,val_labels in validation_dataloader:\n",
        "        val_imgs=val_imgs.to(device)\n",
        "        val_labels=val_labels.to(device)\n",
        "        val_output=model(val_imgs)\n",
        "        val_loss=criterion(val_output,val_labels)\n",
        "        val_running_loss+= val_loss.item()\n",
        "        val_pred=torch.argmax(val_output,dim=1)\n",
        "        val_running_acc+=torch.mean(val_pred.eq(val_labels).float())\n",
        "    val_running_loss/=len(validation_dataloader)\n",
        "    val_running_acc/=len(validation_dataloader)\n",
        "    val_losses.append(val_running_loss)\n",
        "    val_accs.append(val_running_acc)\n",
        "    print(\"epoch:{},        loss:{},        acc:{},     val loss:{},        val acc:{}\".format(epoch,running_loss,running_acc,val_running_loss,val_running_acc))"
      ],
      "execution_count": 54,
      "outputs": [
        {
          "output_type": "stream",
          "text": [
            "epoch:0,        loss:1.4212429253855197,        acc:0.4851047694683075,     val loss:1.0521867046721827,        val acc:0.631489634513855\n",
            "epoch:1,        loss:0.9978168216448752,        acc:0.6480926275253296,     val loss:0.8650238777692325,        val acc:0.6945886611938477\n",
            "epoch:2,        loss:0.848079091756678,        acc:0.703394889831543,     val loss:0.8000045185462354,        val acc:0.7198482155799866\n",
            "epoch:3,        loss:0.7675153702611887,        acc:0.732945442199707,     val loss:0.7599715500974807,        val acc:0.7328274846076965\n",
            "epoch:4,        loss:0.7166443228797889,        acc:0.7508597373962402,     val loss:0.7564078008595366,        val acc:0.7454073429107666\n",
            "epoch:5,        loss:0.678241283330716,        acc:0.763015866279602,     val loss:0.6766175413474488,        val acc:0.7657747268676758\n",
            "epoch:6,        loss:0.6525029443580984,        acc:0.7715930938720703,     val loss:0.6636980882944009,        val acc:0.7744608521461487\n",
            "epoch:7,        loss:0.6230673677861804,        acc:0.782649576663971,     val loss:0.636311774865126,        val acc:0.785243570804596\n",
            "epoch:8,        loss:0.5981435508718113,        acc:0.7922264933586121,     val loss:0.6551606817938649,        val acc:0.7753593921661377\n",
            "epoch:9,        loss:0.5870041135443531,        acc:0.7948256731033325,     val loss:0.6151244732708977,        val acc:0.7922323942184448\n",
            "epoch:10,        loss:0.568837538094606,        acc:0.801863431930542,     val loss:0.6087278117672704,        val acc:0.7961261868476868\n",
            "epoch:11,        loss:0.5559807294027515,        acc:0.8053222894668579,     val loss:0.6050267812733452,        val acc:0.7914336919784546\n",
            "epoch:12,        loss:0.546462938208574,        acc:0.8093410134315491,     val loss:0.5956069988469346,        val acc:0.8050119876861572\n",
            "epoch:13,        loss:0.5335140248149233,        acc:0.8150392174720764,     val loss:0.6530827786118839,        val acc:0.7813498377799988\n",
            "epoch:14,        loss:0.5288467077408474,        acc:0.8168985843658447,     val loss:0.6140977234695666,        val acc:0.7919328808784485\n"
          ],
          "name": "stdout"
        }
      ]
    },
    {
      "cell_type": "code",
      "metadata": {
        "id": "yTJzcxM0Z4sK",
        "colab": {
          "base_uri": "https://localhost:8080/",
          "height": 282
        },
        "outputId": "c1f4e9f9-6077-4798-e252-d993a04932d4"
      },
      "source": [
        "plt.style.use(\"ggplot\")\n",
        "plt.plot(losses,label=\"train loss\")\n",
        "plt.plot(val_losses,label=\"validation loss\")\n",
        "plt.legend()"
      ],
      "execution_count": 55,
      "outputs": [
        {
          "output_type": "execute_result",
          "data": {
            "text/plain": [
              "<matplotlib.legend.Legend at 0x7f14de85fdd8>"
            ]
          },
          "metadata": {
            "tags": []
          },
          "execution_count": 55
        },
        {
          "output_type": "display_data",
          "data": {
            "image/png": "[encoded data removed]",
            "text/plain": [
              "<Figure size 432x288 with 1 Axes>"
            ]
          },
          "metadata": {
            "tags": []
          }
        }
      ]
    },
    {
      "cell_type": "code",
      "metadata": {
        "id": "1-b-0fiJaYHs",
        "colab": {
          "base_uri": "https://localhost:8080/",
          "height": 282
        },
        "outputId": "e4f27f32-1cc1-4f22-ef69-e62ac3b62bcd"
      },
      "source": [
        "plt.plot(accs,label=\"train acc\")\n",
        "plt.plot(val_accs,label=\"validation acc\")\n",
        "plt.legend()"
      ],
      "execution_count": 56,
      "outputs": [
        {
          "output_type": "execute_result",
          "data": {
            "text/plain": [
              "<matplotlib.legend.Legend at 0x7f14de71c470>"
            ]
          },
          "metadata": {
            "tags": []
          },
          "execution_count": 56
        },
        {
          "output_type": "display_data",
          "data": {
            "image/png": "[encoded data removed]",
            "text/plain": [
              "<Figure size 432x288 with 1 Axes>"
            ]
          },
          "metadata": {
            "tags": []
          }
        }
      ]
    },
    {
      "cell_type": "code",
      "metadata": {
        "id": "3_NOEbtKxq7r"
      },
      "source": [
        ""
      ],
      "execution_count": 56,
      "outputs": []
    }
  ]
}